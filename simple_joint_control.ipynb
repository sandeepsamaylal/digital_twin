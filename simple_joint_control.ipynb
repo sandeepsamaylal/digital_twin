{
 "cells": [
  {
   "cell_type": "code",
   "execution_count": 1,
   "metadata": {},
   "outputs": [
    {
     "data": {
      "text/plain": [
       "'/home/robolab/.cache/bazel/_bazel_robolab/ab0f245373231211c3f02101438285e2/execroot/com_nvidia_isaac_sdk/bazel-out/k8-opt/bin/packages/universal_robots/digital_twin_app/simple_joint_control.runfiles/com_nvidia_isaac_sdk'"
      ]
     },
     "execution_count": 1,
     "metadata": {},
     "output_type": "execute_result"
    }
   ],
   "source": [
    "import os\n",
    "# set the current working directory to the deployed package folder. This is required by isaac.\n",
    "# This cell should only run once.\n",
    "os.chdir(\"../../../\")\n",
    "os.getcwd()"
   ]
  },
  {
   "cell_type": "code",
   "execution_count": 2,
   "metadata": {},
   "outputs": [
    {
     "name": "stderr",
     "output_type": "stream",
     "text": [
      "/home/robolab/.local/lib/python3.6/site-packages/numba/core/errors.py:154: UserWarning: Insufficiently recent colorama version found. Numba requires colorama >= 0.3.9\n",
      "  warnings.warn(msg)\n"
     ]
    }
   ],
   "source": [
    "from IPython.display import display\n",
    "import json\n",
    "import numpy as np\n",
    "import time\n",
    "\n",
    "from packages.pyalice import Application, Codelet, Message\n",
    "from packages.pyalice.gui.composite_widget import CompositeWidget\n",
    "\n",
    "np.set_printoptions(precision=3)"
   ]
  },
  {
   "cell_type": "code",
   "execution_count": 3,
   "metadata": {},
   "outputs": [
    {
     "name": "stdout",
     "output_type": "stream",
     "text": [
      "['shoulder_pan_joint', 'shoulder_lift_joint', 'elbow_joint', 'wrist_1_joint', 'wrist_2_joint', 'wrist_3_joint']\n"
     ]
    }
   ],
   "source": [
    "# A Python codelet for joint control through widget\n",
    "class JointPositionControl(Codelet):\n",
    "    def start(self):\n",
    "        self.rx = self.isaac_proto_rx(\"CompositeProto\", \"state\")\n",
    "        self.tx = self.isaac_proto_tx(\"CompositeProto\", \"command\")\n",
    "        \n",
    "        joints = self.config.joints\n",
    "        limits = self.config.limits\n",
    "        measure = self.config.measure\n",
    "        self.stop_control = 3\n",
    "        self._widget = CompositeWidget(joints, measure, limits)\n",
    "        if self._widget is None:\n",
    "            report_failure(\"Cannot create valid widget\")\n",
    "            return\n",
    "        display(self._widget.panel)\n",
    "\n",
    "        self.tick_periodically(0.1)\n",
    "\n",
    "    def tick(self):\n",
    "        state_msg = self.rx.message\n",
    "        if state_msg is None:\n",
    "            return\n",
    "        self._widget.composite = state_msg\n",
    "\n",
    "        self.tx._msg = self._widget.composite\n",
    "        if self.tx._msg is not None:\n",
    "            self.tx.publish()\n",
    "            \n",
    "# set kinematic file and get list of joints\n",
    "kinematic_file = \"apps/assets/kinematic_trees/ur10.kinematic.json\"\n",
    "joints = []\n",
    "with open(kinematic_file,'r') as fd:\n",
    "    kt = json.load(fd)\n",
    "    for link in kt['links']:\n",
    "        if 'motor' in link and link['motor']['type'] != 'constant':\n",
    "            joints.append(link['name'])\n",
    "print(joints)\n",
    "\n",
    "# Obtain the IP from UR Console and update this\n",
    "IP = \"192.168.0.100\"\n",
    "# Robot generation that you are going to control \"e-series\" or \"cb3\"\n",
    "GENERATION = \"cb3\""
   ]
  },
  {
   "cell_type": "markdown",
   "metadata": {},
   "source": [
    "## Merge both into one app"
   ]
  },
  {
   "cell_type": "code",
   "execution_count": null,
   "metadata": {},
   "outputs": [],
   "source": []
  },
  {
   "cell_type": "markdown",
   "metadata": {},
   "source": [
    "UR10 Hardware Joint Control\n",
    "======"
   ]
  },
  {
   "cell_type": "code",
   "execution_count": 4,
   "metadata": {
    "scrolled": true
   },
   "outputs": [
    {
     "name": "stderr",
     "output_type": "stream",
     "text": [
      "2022-01-12 17:07:55,620 DEBUG Binding PyCodelet command_generator/PyCodelet\n"
     ]
    }
   ],
   "source": [
    "app_hw = Application(name=\"simple_joint_control_ur_hardware\", modules=[\"sight\"])\n",
    "\n",
    "if GENERATION == \"e-series\":    \n",
    "    app_hw.load(filename=\"packages/universal_robots/ur_robot_driver/apps/ur_eseries_robot.subgraph.json\", prefix=\"ur\")\n",
    "elif GENERATION == \"cb3\":\n",
    "    app_hw.load(filename=\"packages/universal_robots/ur_robot_driver/apps/ur_cb3_robot.subgraph.json\", prefix=\"ur\")\n",
    "else:\n",
    "    Exception(\"Unknown robot generation\")\n",
    "\n",
    "# Load components for configuration\n",
    "ur_interface = app_hw.nodes[\"ur.subgraph\"][\"interface\"]\n",
    "ur_controller = app_hw.nodes[\"ur.controller\"][\"ScaledMultiJointController\"]\n",
    "ur_driver = app_hw.nodes[\"ur.universal_robots\"][\"UniversalRobots\"]\n",
    "\n",
    "# configs\n",
    "ur_controller.config.control_mode = \"joint speed\"\n",
    "ur_driver.config.control_mode = \"joint speed\"\n",
    "ur_driver.config.robot_ip = IP\n",
    "ur_driver.config.headless_mode = False\n",
    "\n",
    "# add pycodelet for joint position control\n",
    "widget_node = app_hw.add(\"command_generator\")\n",
    "joint_commander = widget_node.add(JointPositionControl)\n",
    "joint_commander.config.joints = joints\n",
    "joint_commander.config.limits = [[-2*np.pi, 2*np.pi]] * len(joints)\n",
    "joint_commander.config.measure = 'position'\n",
    "\n",
    "# edges\n",
    "app_hw.connect(joint_commander, \"command\", ur_interface, \"joint_target\")\n",
    "app_hw.connect(ur_interface, \"arm_state\", joint_commander, \"state\")\n",
    "\n",
    "# Enable sight\n",
    "widget = app_hw.add(\"sight\").add(app_hw.registry.isaac.sight.SightWidget, \"simple_joint_control\")\n",
    "widget.config.type = \"plot\"\n",
    "widget.config.channels = [\n",
    "  {\n",
    "    \"name\": \"ur.universal_robots/UniversalRobots/shoulder_pan_joint\"\n",
    "  },\n",
    "  {\n",
    "    \"name\": \"ur.universal_robots/UniversalRobots/shoulder_lift_joint\"\n",
    "  },\n",
    "  {\n",
    "    \"name\": \"ur.universal_robots/UniversalRobots/elbow_joint\"\n",
    "  },\n",
    "  {\n",
    "    \"name\": \"ur.universal_robots/UniversalRobots/wrist_1_joint\"\n",
    "  },\n",
    "  {\n",
    "    \"name\": \"ur.universal_robots/UniversalRobots/wrist_2_joint\"\n",
    "  },\n",
    "  {\n",
    "    \"name\": \"ur.universal_robots/UniversalRobots/wrist_3_joint\"\n",
    "  }\n",
    "\n",
    "]\n"
   ]
  },
  {
   "cell_type": "markdown",
   "metadata": {},
   "source": [
    "LQR planner Simulation part\n",
    "-----"
   ]
  },
  {
   "cell_type": "code",
   "execution_count": null,
   "metadata": {},
   "outputs": [],
   "source": [
    "app_sim = Application(name=\"simple_joint_control_lqr_ur10_sim\")\n",
    "\n",
    "# load subgraphs\n",
    "app_sim.load(filename=\"packages/planner/apps/multi_joint_lqr_control.subgraph.json\", prefix=\"lqr\")\n",
    "app_sim.load(filename=\"packages/navsim/apps/navsim_tcp.subgraph.json\", prefix=\"simulation\")\n",
    "# edges\n",
    "simulation_node = app_sim.nodes[\"simulation.interface\"]\n",
    "lqr_interface = app_sim.nodes[\"lqr.subgraph\"][\"interface\"]\n",
    "app_sim.connect(simulation_node[\"output\"], \"joint_state\", lqr_interface, \"joint_state\")\n",
    "app_sim.connect(lqr_interface, \"joint_command\", simulation_node[\"input\"], \"joint_position\")\n",
    "# configs\n",
    "app_sim.nodes[\"lqr.kinematic_tree\"][\"KinematicTree\"].config.kinematic_file = kinematic_file\n",
    "lqr_planner = app_sim.nodes[\"lqr.local_plan\"][\"MultiJointLqrPlanner\"]\n",
    "lqr_planner.config.speed_min = [-1.0] * len(joints)\n",
    "lqr_planner.config.speed_max = [1.0] * len(joints)\n",
    "lqr_planner.config.acceleration_min = [-1.0] * len(joints)\n",
    "lqr_planner.config.acceleration_max = [1.0] * len(joints)\n",
    "\n",
    "# add pycodelet JointControl for arm control\n",
    "joint_commander = app_sim.add(\"command_generator\").add(JointPositionControl)\n",
    "joint_commander.config.joints = joints\n",
    "joint_commander.config.limits = [[-2*np.pi, 2*np.pi]] * len(joints)\n",
    "joint_commander.config.measure = \"position\"\n",
    "\n",
    "app_sim.connect(joint_commander, \"command\", lqr_interface, \"joint_target\")\n",
    "app_sim.connect(simulation_node[\"output\"], \"joint_state\", joint_commander, \"state\")\n"
   ]
  },
  {
   "cell_type": "markdown",
   "metadata": {},
   "source": [
    "### start application"
   ]
  },
  {
   "cell_type": "code",
   "execution_count": 5,
   "metadata": {},
   "outputs": [
    {
     "name": "stderr",
     "output_type": "stream",
     "text": [
      "2022-01-12 17:07:58,810 DEBUG Launching isaac core\n",
      "2022-01-12 17:07:58,812 DEBUG Launching pycodelet threads\n",
      "2022-01-12 17:07:58,813 DEBUG Launching command_generator/PyCodelet\n"
     ]
    },
    {
     "data": {
      "application/vnd.jupyter.widget-view+json": {
       "model_id": "33f9c0576a8c432190b24b4ba32401d0",
       "version_major": 2,
       "version_minor": 0
      },
      "text/plain": [
       "VBox(children=(HBox(children=(Label(value='shoulder_pan_joint', layout=Layout(width='150px')), FloatSlider(val…"
      ]
     },
     "metadata": {},
     "output_type": "display_data"
    }
   ],
   "source": [
    "app_hw.start()"
   ]
  },
  {
   "cell_type": "code",
   "execution_count": null,
   "metadata": {},
   "outputs": [],
   "source": [
    "app_sim.start()"
   ]
  },
  {
   "cell_type": "markdown",
   "metadata": {},
   "source": [
    "### stop application"
   ]
  },
  {
   "cell_type": "code",
   "execution_count": 6,
   "metadata": {},
   "outputs": [
    {
     "name": "stderr",
     "output_type": "stream",
     "text": [
      "2022-01-12 17:08:46,899 DEBUG Stopped command_generator/PyCodelet\n",
      "2022-01-12 17:08:46,900 DEBUG Python Codelets All stopped...\n"
     ]
    }
   ],
   "source": [
    "app_hw.stop()"
   ]
  },
  {
   "cell_type": "code",
   "execution_count": null,
   "metadata": {},
   "outputs": [],
   "source": [
    "app_sim.stop()"
   ]
  },
  {
   "cell_type": "markdown",
   "metadata": {},
   "source": [
    "## Later work"
   ]
  },
  {
   "cell_type": "markdown",
   "metadata": {},
   "source": [
    "UR10 Digital IO Control\n",
    "====="
   ]
  },
  {
   "cell_type": "code",
   "execution_count": null,
   "metadata": {},
   "outputs": [],
   "source": [
    "app = Application(name=\"io_control_ur_hardware\", modules=[\"sight\"])\n",
    "\n",
    "if GENERATION == \"e-series\":    \n",
    "    app.load(filename=\"packages/universal_robots/ur_robot_driver/apps/ur_eseries_robot.subgraph.json\", prefix=\"ur\")\n",
    "elif GENERATION == \"cb3\":\n",
    "    app.load(filename=\"packages/universal_robots/ur_robot_driver/apps/ur_cb3_robot.subgraph.json\", prefix=\"ur\")\n",
    "else:\n",
    "    Exception(\"Unknown robot generation\")\n",
    "\n",
    "# Load components for configuration\n",
    "ur_interface = app.nodes[\"ur.subgraph\"][\"interface\"]\n",
    "ur_driver = app.nodes[\"ur.universal_robots\"][\"UniversalRobots\"]\n",
    "\n",
    "io_names = ur_driver.config.tool_digital_out_names\n",
    "ur_driver.config.robot_ip = IP\n",
    "\n",
    "# add pycodelet for digitalIO control\n",
    "widget_node = app.add(\"command_generator\")\n",
    "io_commander = widget_node.add(JointPositionControl)\n",
    "io_commander.config.joints = io_names\n",
    "io_commander.config.limits = [[0, 1]] * len(io_names)\n",
    "io_commander.config.measure = 'none'\n",
    "\n",
    "# Edges\n",
    "app.connect(io_commander, \"command\", ur_interface, \"io_command\")\n",
    "app.connect(ur_interface, \"io_state\", io_commander, \"state\")\n",
    "\n",
    "# Enable sight\n",
    "widget = app.add(\"sight\").add(app.registry.isaac.sight.SightWidget, \"shuffle_box_hardware\")\n",
    "widget.config.type = \"plot\"\n",
    "widget.config.channels = [\n",
    "  {\n",
    "    \"name\": \"ur.universal_robots/UniversalRobots/tool_digital_out_0\"\n",
    "  },\n",
    "  {\n",
    "    \"name\": \"ur.universal_robots/UniversalRobots/tool_digital_out_1\"\n",
    "  },\n",
    "  {\n",
    "    \"name\": \"ur.universal_robots/UniversalRobots/tool_digital_in_0\"\n",
    "  },\n",
    "  {\n",
    "    \"name\": \"ur.universal_robots/UniversalRobots/tool_digital_in_1\"\n",
    "  }\n",
    "]\n",
    "\n",
    "app.start()"
   ]
  },
  {
   "cell_type": "code",
   "execution_count": null,
   "metadata": {},
   "outputs": [],
   "source": [
    "app.stop()"
   ]
  }
 ],
 "metadata": {
  "kernelspec": {
   "display_name": "Python 3",
   "language": "python",
   "name": "python3"
  },
  "language_info": {
   "codemirror_mode": {
    "name": "ipython",
    "version": 3
   },
   "file_extension": ".py",
   "mimetype": "text/x-python",
   "name": "python",
   "nbconvert_exporter": "python",
   "pygments_lexer": "ipython3",
   "version": "3.6.9"
  }
 },
 "nbformat": 4,
 "nbformat_minor": 2
}
